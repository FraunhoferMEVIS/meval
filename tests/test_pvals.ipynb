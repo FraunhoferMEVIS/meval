{
 "cells": [
  {
   "cell_type": "code",
   "execution_count": 1,
   "id": "d149db84",
   "metadata": {},
   "outputs": [],
   "source": [
    "import numpy as np\n",
    "import pandas as pd\n",
    "import scipy.stats as stats\n",
    "from tqdm import tqdm\n",
    "import matplotlib.pyplot as plt\n",
    "\n",
    "from meval.stats import studentized_permut_pval\n",
    "from meval.metrics import AUROC, Accuracy\n",
    "from meval.group_filter import GroupFilter\n",
    "from meval.config import settings\n",
    "\n",
    "settings.update(N_test_permut=500)\n",
    "\n",
    "N_rep = 1000"
   ]
  },
  {
   "cell_type": "code",
   "execution_count": 2,
   "id": "f26131e1",
   "metadata": {},
   "outputs": [],
   "source": [
    "def simulate_equal_auroc_data(NA: int, NB: int):\n",
    "    # These two groups have equal AUROC and unequal Accuracy at any threshold != 0.5\n",
    "    scores_A = stats.beta.rvs(1, 2, size=NA)\n",
    "    scores_B = 1 - stats.beta.rvs(1, 2, size=NB)\n",
    "    labels_A = stats.bernoulli.rvs(scores_A)\n",
    "    labels_B = stats.bernoulli.rvs(scores_B)\n",
    "    return pd.DataFrame({\n",
    "        'y_pred_prob': np.concat([scores_A, scores_B]),\n",
    "        'y_true': np.concat([labels_A, labels_B]).astype(bool),\n",
    "        'group': ['A'] * NA + ['B'] * NB\n",
    "    })"
   ]
  },
  {
   "cell_type": "code",
   "execution_count": 3,
   "id": "e83d2271",
   "metadata": {},
   "outputs": [],
   "source": [
    "def histogram_with_CIs(data, bins=15):\n",
    "    counts, bin_edges = np.histogram(data, bins=bins)\n",
    "    bin_centers = (bin_edges[:-1] + bin_edges[1:]) / 2\n",
    "    errors = np.sqrt(counts)  # Poisson errors\n",
    "    # 99% Confidence Interval\n",
    "    errors_99 = 2.576 * errors\n",
    "    plt.figure()\n",
    "    plt.bar(bin_centers, counts, width=bin_edges[1]-bin_edges[0], \n",
    "            alpha=0.7, yerr=errors_99, capsize=3)\n",
    "    plt.title(\"Histogram with Error Bars (Matplotlib)\")\n",
    "    plt.xlabel(\"Value\")\n",
    "    plt.ylabel(\"Count\")\n",
    "    plt.show()"
   ]
  },
  {
   "cell_type": "markdown",
   "id": "a7d224ab",
   "metadata": {},
   "source": [
    "### Equal AUROC, mid-sized"
   ]
  },
  {
   "cell_type": "code",
   "execution_count": 4,
   "id": "f0af64f2",
   "metadata": {},
   "outputs": [
    {
     "name": "stderr",
     "output_type": "stream",
     "text": [
      "  0%|          | 0/1000 [00:00<?, ?it/s]"
     ]
    },
    {
     "name": "stderr",
     "output_type": "stream",
     "text": [
      "100%|██████████| 1000/1000 [53:20<00:00,  3.20s/it]   \n"
     ]
    }
   ],
   "source": [
    "group_filter = GroupFilter({'group': 'A'})\n",
    "\n",
    "pvals = []\n",
    "for ii in tqdm(range(N_rep)):\n",
    "    # This is actually an interesting edge case because it will use newcombe for the small group variance and delong for the large group variance\n",
    "    df = simulate_equal_auroc_data(NA=50, NB=200)\n",
    "    pvals.append(studentized_permut_pval(df, AUROC(), group_filter, correct_zero_pvals=False)[0])\n",
    "\n",
    "pvals = np.array(pvals)"
   ]
  },
  {
   "cell_type": "code",
   "execution_count": 5,
   "id": "0c67f79a",
   "metadata": {},
   "outputs": [
    {
     "data": {
      "text/plain": [
       "np.float64(0.483604)"
      ]
     },
     "execution_count": 5,
     "metadata": {},
     "output_type": "execute_result"
    }
   ],
   "source": [
    "np.nanmean(pvals)"
   ]
  },
  {
   "cell_type": "code",
   "execution_count": 6,
   "id": "a47e23a8",
   "metadata": {},
   "outputs": [
    {
     "data": {
      "text/plain": [
       "np.float64(0.054)"
      ]
     },
     "execution_count": 6,
     "metadata": {},
     "output_type": "execute_result"
    }
   ],
   "source": [
    "np.nanmean(pvals < 0.05)  # should be very close to 0.05"
   ]
  },
  {
   "cell_type": "code",
   "execution_count": 7,
   "id": "66f95468",
   "metadata": {},
   "outputs": [
    {
     "data": {
      "text/plain": [
       "np.int64(0)"
      ]
     },
     "execution_count": 7,
     "metadata": {},
     "output_type": "execute_result"
    }
   ],
   "source": [
    "np.isnan(pvals).sum()"
   ]
  },
  {
   "cell_type": "code",
   "execution_count": 8,
   "id": "be4e81b9",
   "metadata": {},
   "outputs": [
    {
     "data": {
      "text/plain": [
       "np.float64(0.09298528319117427)"
      ]
     },
     "execution_count": 8,
     "metadata": {},
     "output_type": "execute_result"
    }
   ],
   "source": [
    "# I think ?? that pvals in the case of a true null hypothesis should be uniformly distributed ??\n",
    "stats.kstest(pvals, stats.uniform.cdf).pvalue"
   ]
  },
  {
   "cell_type": "code",
   "execution_count": 9,
   "id": "4e7fcc0a",
   "metadata": {},
   "outputs": [
    {
     "data": {
      "image/png": "[encoded data removed]",
      "text/plain": [
       "<Figure size 640x480 with 1 Axes>"
      ]
     },
     "metadata": {},
     "output_type": "display_data"
    }
   ],
   "source": [
    "histogram_with_CIs(pvals[~np.isnan(pvals)])"
   ]
  },
  {
   "cell_type": "markdown",
   "id": "d802d879",
   "metadata": {},
   "source": [
    "### Equal AUROC, small-sized"
   ]
  },
  {
   "cell_type": "code",
   "execution_count": 10,
   "id": "064a3ab1",
   "metadata": {},
   "outputs": [
    {
     "name": "stderr",
     "output_type": "stream",
     "text": [
      "100%|██████████| 1000/1000 [36:52<00:00,  2.21s/it]\n"
     ]
    }
   ],
   "source": [
    "pvals = []\n",
    "for ii in tqdm(range(N_rep)):\n",
    "    # This will all use Newcombe\n",
    "    df = simulate_equal_auroc_data(NA=10, NB=20)\n",
    "    pvals.append(studentized_permut_pval(df, AUROC(), group_filter, correct_zero_pvals=False)[0])\n",
    "\n",
    "pvals = np.array(pvals)"
   ]
  },
  {
   "cell_type": "code",
   "execution_count": 11,
   "id": "a64abb90",
   "metadata": {},
   "outputs": [
    {
     "data": {
      "text/plain": [
       "np.float64(0.4217096336499322)"
      ]
     },
     "execution_count": 11,
     "metadata": {},
     "output_type": "execute_result"
    }
   ],
   "source": [
    "np.nanmean(pvals)"
   ]
  },
  {
   "cell_type": "code",
   "execution_count": 12,
   "id": "0a339e4f",
   "metadata": {},
   "outputs": [
    {
     "data": {
      "text/plain": [
       "np.float64(0.05)"
      ]
     },
     "execution_count": 12,
     "metadata": {},
     "output_type": "execute_result"
    }
   ],
   "source": [
    "np.nanmean(pvals < 0.05)  # should ideally be very close to 0.05"
   ]
  },
  {
   "cell_type": "code",
   "execution_count": 13,
   "id": "ef3ef9d0",
   "metadata": {},
   "outputs": [
    {
     "data": {
      "text/plain": [
       "np.float64(0.263)"
      ]
     },
     "execution_count": 13,
     "metadata": {},
     "output_type": "execute_result"
    }
   ],
   "source": [
    "np.isnan(pvals).sum() / len(pvals)"
   ]
  },
  {
   "cell_type": "code",
   "execution_count": 14,
   "id": "8a3841da",
   "metadata": {},
   "outputs": [
    {
     "data": {
      "text/plain": [
       "np.float64(1.957915783308038e-11)"
      ]
     },
     "execution_count": 14,
     "metadata": {},
     "output_type": "execute_result"
    }
   ],
   "source": [
    "# I think ?? that pvals in the case of a true null hypothesis should be uniformly distributed ??\n",
    "# So this pval should be >> 0\n",
    "stats.kstest(pvals[~np.isnan(pvals)], stats.uniform.cdf).pvalue"
   ]
  },
  {
   "cell_type": "code",
   "execution_count": 15,
   "id": "82f90d9b",
   "metadata": {},
   "outputs": [
    {
     "data": {
      "image/png": "[encoded data removed]",
      "text/plain": [
       "<Figure size 640x480 with 1 Axes>"
      ]
     },
     "metadata": {},
     "output_type": "display_data"
    }
   ],
   "source": [
    "histogram_with_CIs(pvals[~np.isnan(pvals)])"
   ]
  },
  {
   "cell_type": "markdown",
   "id": "40270f3a",
   "metadata": {},
   "source": [
    "### Equal AUROC, large-sized"
   ]
  },
  {
   "cell_type": "code",
   "execution_count": 16,
   "id": "1e9a2e76",
   "metadata": {},
   "outputs": [
    {
     "name": "stderr",
     "output_type": "stream",
     "text": [
      "100%|██████████| 1000/1000 [1:23:17<00:00,  5.00s/it]\n"
     ]
    }
   ],
   "source": [
    "pvals = []\n",
    "for ii in tqdm(range(N_rep)):\n",
    "    # This will all use DeLong\n",
    "    df = simulate_equal_auroc_data(NA=1000, NB=2000)\n",
    "    pvals.append(studentized_permut_pval(df, AUROC(), group_filter, correct_zero_pvals=False)[0])\n",
    "\n",
    "pvals = np.array(pvals)"
   ]
  },
  {
   "cell_type": "code",
   "execution_count": 17,
   "id": "a0cd20ae",
   "metadata": {},
   "outputs": [
    {
     "data": {
      "text/plain": [
       "np.float64(0.510294)"
      ]
     },
     "execution_count": 17,
     "metadata": {},
     "output_type": "execute_result"
    }
   ],
   "source": [
    "np.nanmean(pvals)"
   ]
  },
  {
   "cell_type": "code",
   "execution_count": 18,
   "id": "1990f272",
   "metadata": {},
   "outputs": [
    {
     "data": {
      "text/plain": [
       "np.float64(0.044)"
      ]
     },
     "execution_count": 18,
     "metadata": {},
     "output_type": "execute_result"
    }
   ],
   "source": [
    "np.nanmean(pvals < 0.05)  # should ideally be == 0.05"
   ]
  },
  {
   "cell_type": "code",
   "execution_count": 19,
   "id": "d702c775",
   "metadata": {},
   "outputs": [
    {
     "data": {
      "text/plain": [
       "np.float64(0.0)"
      ]
     },
     "execution_count": 19,
     "metadata": {},
     "output_type": "execute_result"
    }
   ],
   "source": [
    "np.isnan(pvals).sum() / len(pvals)"
   ]
  },
  {
   "cell_type": "code",
   "execution_count": 20,
   "id": "753ec1d1",
   "metadata": {},
   "outputs": [
    {
     "data": {
      "text/plain": [
       "np.float64(0.45169720730901186)"
      ]
     },
     "execution_count": 20,
     "metadata": {},
     "output_type": "execute_result"
    }
   ],
   "source": [
    "# I think ?? that pvals in the case of a true null hypothesis should be uniformly distributed ??\n",
    "stats.kstest(pvals[~np.isnan(pvals)], stats.uniform.cdf).pvalue"
   ]
  },
  {
   "cell_type": "code",
   "execution_count": 21,
   "id": "67fcbd8f",
   "metadata": {},
   "outputs": [
    {
     "data": {
      "image/png": "[encoded data removed]",
      "text/plain": [
       "<Figure size 640x480 with 1 Axes>"
      ]
     },
     "metadata": {},
     "output_type": "display_data"
    }
   ],
   "source": [
    "histogram_with_CIs(pvals[~np.isnan(pvals)])"
   ]
  },
  {
   "cell_type": "markdown",
   "id": "9d8c7236",
   "metadata": {},
   "source": [
    "### Unequal AUROC, mid-sized"
   ]
  },
  {
   "cell_type": "code",
   "execution_count": 22,
   "id": "03cfb6ef",
   "metadata": {},
   "outputs": [],
   "source": [
    "def simulate_unequal_auroc_data(NA: int, NB: int):\n",
    "    # These two groups have equal AUROC and unequal Accuracy at any threshold != 0.5\n",
    "    true_scores_A = 1 - stats.beta.rvs(1, 2, size=int(NA/5))\n",
    "    false_scores_A = stats.beta.rvs(1, 2, size=NA-len(true_scores_A))\n",
    "    scores_A = np.concat([true_scores_A, false_scores_A])\n",
    "    labels_A = np.concat([[True]*len(true_scores_A), [False]*len(false_scores_A)])\n",
    "    scores_B = stats.uniform.rvs(0, 1, size=NB)\n",
    "    labels_B = stats.bernoulli.rvs(0.5, size=NB)\n",
    "    return pd.DataFrame({\n",
    "        'y_pred_prob': np.concat([scores_A, scores_B]),\n",
    "        'y_true': np.concat([labels_A, labels_B]).astype(bool),\n",
    "        'group': ['A'] * NA + ['B'] * NB\n",
    "    })"
   ]
  },
  {
   "cell_type": "code",
   "execution_count": 23,
   "id": "3d624235",
   "metadata": {},
   "outputs": [
    {
     "name": "stderr",
     "output_type": "stream",
     "text": [
      "100%|██████████| 1000/1000 [43:46<00:00,  2.63s/it]\n"
     ]
    }
   ],
   "source": [
    "pvals = []\n",
    "for ii in tqdm(range(N_rep)):\n",
    "    df = simulate_unequal_auroc_data(NA=50, NB=200)\n",
    "    pvals.append(studentized_permut_pval(df, AUROC(), group_filter, correct_zero_pvals=False)[0])\n",
    "\n",
    "pvals = np.array(pvals)"
   ]
  },
  {
   "cell_type": "code",
   "execution_count": 24,
   "id": "86623a8f",
   "metadata": {},
   "outputs": [
    {
     "data": {
      "text/plain": [
       "np.float64(0.011380000000000001)"
      ]
     },
     "execution_count": 24,
     "metadata": {},
     "output_type": "execute_result"
    }
   ],
   "source": [
    "np.nanmean(pvals)"
   ]
  },
  {
   "cell_type": "code",
   "execution_count": 25,
   "id": "3f7d14ca",
   "metadata": {},
   "outputs": [
    {
     "data": {
      "text/plain": [
       "np.float64(0.942)"
      ]
     },
     "execution_count": 25,
     "metadata": {},
     "output_type": "execute_result"
    }
   ],
   "source": [
    "np.nanmean(pvals < 0.05)  # should ideally be much larger than 0.05"
   ]
  },
  {
   "cell_type": "code",
   "execution_count": 26,
   "id": "a6ad9905",
   "metadata": {},
   "outputs": [
    {
     "data": {
      "text/plain": [
       "np.float64(0.0)"
      ]
     },
     "execution_count": 26,
     "metadata": {},
     "output_type": "execute_result"
    }
   ],
   "source": [
    "np.isnan(pvals).sum() / len(pvals)"
   ]
  },
  {
   "cell_type": "code",
   "execution_count": 27,
   "id": "3ac9bd5e",
   "metadata": {},
   "outputs": [
    {
     "data": {
      "text/plain": [
       "np.float64(0.0)"
      ]
     },
     "execution_count": 27,
     "metadata": {},
     "output_type": "execute_result"
    }
   ],
   "source": [
    "stats.kstest(pvals[~np.isnan(pvals)], stats.uniform.cdf).pvalue"
   ]
  },
  {
   "cell_type": "code",
   "execution_count": 28,
   "id": "599bd1d0",
   "metadata": {},
   "outputs": [
    {
     "data": {
      "image/png": "[encoded data removed]",
      "text/plain": [
       "<Figure size 640x480 with 1 Axes>"
      ]
     },
     "metadata": {},
     "output_type": "display_data"
    }
   ],
   "source": [
    "histogram_with_CIs(pvals[~np.isnan(pvals)])"
   ]
  },
  {
   "cell_type": "markdown",
   "id": "b1366e24",
   "metadata": {},
   "source": [
    "### Unequal AUROC, small-sized"
   ]
  },
  {
   "cell_type": "code",
   "execution_count": 29,
   "id": "e15e3071",
   "metadata": {},
   "outputs": [
    {
     "name": "stderr",
     "output_type": "stream",
     "text": [
      "100%|██████████| 1000/1000 [40:17<00:00,  2.42s/it]\n"
     ]
    }
   ],
   "source": [
    "pvals = []\n",
    "for ii in tqdm(range(N_rep)):\n",
    "    df = simulate_unequal_auroc_data(NA=10, NB=20)\n",
    "    pvals.append(studentized_permut_pval(df, AUROC(), group_filter, correct_zero_pvals=False)[0])\n",
    "\n",
    "pvals = np.array(pvals)"
   ]
  },
  {
   "cell_type": "code",
   "execution_count": 30,
   "id": "78e9e729",
   "metadata": {},
   "outputs": [
    {
     "data": {
      "text/plain": [
       "np.float64(0.2910777777777777)"
      ]
     },
     "execution_count": 30,
     "metadata": {},
     "output_type": "execute_result"
    }
   ],
   "source": [
    "np.nanmean(pvals)"
   ]
  },
  {
   "cell_type": "code",
   "execution_count": 31,
   "id": "c171cb44",
   "metadata": {},
   "outputs": [
    {
     "data": {
      "text/plain": [
       "np.float64(0.152)"
      ]
     },
     "execution_count": 31,
     "metadata": {},
     "output_type": "execute_result"
    }
   ],
   "source": [
    "np.nanmean(pvals < 0.05)  # should ideally be much larger than 0.05"
   ]
  },
  {
   "cell_type": "code",
   "execution_count": 32,
   "id": "e98589f1",
   "metadata": {},
   "outputs": [
    {
     "data": {
      "text/plain": [
       "np.float64(0.28)"
      ]
     },
     "execution_count": 32,
     "metadata": {},
     "output_type": "execute_result"
    }
   ],
   "source": [
    "np.isnan(pvals).sum() / len(pvals)"
   ]
  },
  {
   "cell_type": "code",
   "execution_count": 33,
   "id": "92926ce6",
   "metadata": {},
   "outputs": [
    {
     "data": {
      "text/plain": [
       "np.float64(2.687714750038573e-68)"
      ]
     },
     "execution_count": 33,
     "metadata": {},
     "output_type": "execute_result"
    }
   ],
   "source": [
    "stats.kstest(pvals[~np.isnan(pvals)], stats.uniform.cdf).pvalue"
   ]
  },
  {
   "cell_type": "code",
   "execution_count": 34,
   "id": "00476834",
   "metadata": {},
   "outputs": [
    {
     "data": {
      "image/png": "[encoded data removed]",
      "text/plain": [
       "<Figure size 640x480 with 1 Axes>"
      ]
     },
     "metadata": {},
     "output_type": "display_data"
    }
   ],
   "source": [
    "histogram_with_CIs(pvals[~np.isnan(pvals)])"
   ]
  },
  {
   "cell_type": "markdown",
   "id": "4743ce52",
   "metadata": {},
   "source": [
    "### Unequal Accuracy, mid-sized"
   ]
  },
  {
   "cell_type": "code",
   "execution_count": 35,
   "id": "ab4dccc6",
   "metadata": {},
   "outputs": [
    {
     "name": "stderr",
     "output_type": "stream",
     "text": [
      "100%|██████████| 1000/1000 [10:55<00:00,  1.53it/s]\n"
     ]
    }
   ],
   "source": [
    "pvals = []\n",
    "for ii in tqdm(range(N_rep)):\n",
    "    df = simulate_unequal_auroc_data(NA=50, NB=200)\n",
    "    pvals.append(studentized_permut_pval(df, Accuracy(threshold=0.5), group_filter, correct_zero_pvals=False)[0])\n",
    "\n",
    "pvals = np.array(pvals)"
   ]
  },
  {
   "cell_type": "code",
   "execution_count": 36,
   "id": "f21fc500",
   "metadata": {},
   "outputs": [
    {
     "data": {
      "text/plain": [
       "np.float64(0.015644)"
      ]
     },
     "execution_count": 36,
     "metadata": {},
     "output_type": "execute_result"
    }
   ],
   "source": [
    "np.nanmean(pvals)"
   ]
  },
  {
   "cell_type": "code",
   "execution_count": 37,
   "id": "fd2843b6",
   "metadata": {},
   "outputs": [
    {
     "data": {
      "text/plain": [
       "np.float64(0.929)"
      ]
     },
     "execution_count": 37,
     "metadata": {},
     "output_type": "execute_result"
    }
   ],
   "source": [
    "np.nanmean(pvals < 0.05)  # should ideally be much larger than 0.05"
   ]
  },
  {
   "cell_type": "code",
   "execution_count": 38,
   "id": "8641cab7",
   "metadata": {},
   "outputs": [
    {
     "data": {
      "text/plain": [
       "np.float64(0.0)"
      ]
     },
     "execution_count": 38,
     "metadata": {},
     "output_type": "execute_result"
    }
   ],
   "source": [
    "np.isnan(pvals).sum() / len(pvals)"
   ]
  },
  {
   "cell_type": "code",
   "execution_count": 39,
   "id": "7f1a5ebb",
   "metadata": {},
   "outputs": [
    {
     "data": {
      "text/plain": [
       "np.float64(0.0)"
      ]
     },
     "execution_count": 39,
     "metadata": {},
     "output_type": "execute_result"
    }
   ],
   "source": [
    "stats.kstest(pvals[~np.isnan(pvals)], stats.uniform.cdf).pvalue"
   ]
  },
  {
   "cell_type": "code",
   "execution_count": 40,
   "id": "c0ad26d1",
   "metadata": {},
   "outputs": [
    {
     "data": {
      "image/png": "[encoded data removed]",
      "text/plain": [
       "<Figure size 640x480 with 1 Axes>"
      ]
     },
     "metadata": {},
     "output_type": "display_data"
    }
   ],
   "source": [
    "histogram_with_CIs(pvals[~np.isnan(pvals)])"
   ]
  },
  {
   "cell_type": "markdown",
   "id": "eb1da629",
   "metadata": {},
   "source": [
    "### Unequal Accuracy, small-sized"
   ]
  },
  {
   "cell_type": "code",
   "execution_count": 41,
   "id": "7519156b",
   "metadata": {},
   "outputs": [
    {
     "name": "stderr",
     "output_type": "stream",
     "text": [
      "  0%|          | 0/1000 [00:00<?, ?it/s]"
     ]
    },
    {
     "name": "stderr",
     "output_type": "stream",
     "text": [
      "100%|██████████| 1000/1000 [09:31<00:00,  1.75it/s]\n"
     ]
    }
   ],
   "source": [
    "pvals = []\n",
    "for ii in tqdm(range(N_rep)):\n",
    "    df = simulate_unequal_auroc_data(NA=10, NB=20)\n",
    "    pvals.append(studentized_permut_pval(df, Accuracy(threshold=0.5), group_filter, correct_zero_pvals=False)[0])\n",
    "\n",
    "pvals = np.array(pvals)"
   ]
  },
  {
   "cell_type": "code",
   "execution_count": 42,
   "id": "a7e1d423",
   "metadata": {},
   "outputs": [
    {
     "data": {
      "text/plain": [
       "np.float64(0.20448261327713382)"
      ]
     },
     "execution_count": 42,
     "metadata": {},
     "output_type": "execute_result"
    }
   ],
   "source": [
    "np.nanmean(pvals)"
   ]
  },
  {
   "cell_type": "code",
   "execution_count": 43,
   "id": "3aec7945",
   "metadata": {},
   "outputs": [
    {
     "data": {
      "text/plain": [
       "np.float64(0.31)"
      ]
     },
     "execution_count": 43,
     "metadata": {},
     "output_type": "execute_result"
    }
   ],
   "source": [
    "np.nanmean(pvals < 0.05)  # should ideally be much larger than 0.05"
   ]
  },
  {
   "cell_type": "code",
   "execution_count": 44,
   "id": "05497eb0",
   "metadata": {},
   "outputs": [
    {
     "data": {
      "text/plain": [
       "np.float64(0.051)"
      ]
     },
     "execution_count": 44,
     "metadata": {},
     "output_type": "execute_result"
    }
   ],
   "source": [
    "np.isnan(pvals).sum() / len(pvals)"
   ]
  },
  {
   "cell_type": "code",
   "execution_count": 45,
   "id": "004df056",
   "metadata": {},
   "outputs": [
    {
     "data": {
      "text/plain": [
       "np.float64(4.730176257937861e-200)"
      ]
     },
     "execution_count": 45,
     "metadata": {},
     "output_type": "execute_result"
    }
   ],
   "source": [
    "stats.kstest(pvals[~np.isnan(pvals)], stats.uniform.cdf).pvalue"
   ]
  },
  {
   "cell_type": "code",
   "execution_count": 46,
   "id": "9bb322bd",
   "metadata": {},
   "outputs": [
    {
     "data": {
      "image/png": "[encoded data removed]",
      "text/plain": [
       "<Figure size 640x480 with 1 Axes>"
      ]
     },
     "metadata": {},
     "output_type": "display_data"
    }
   ],
   "source": [
    "histogram_with_CIs(pvals[~np.isnan(pvals)])"
   ]
  }
 ],
 "metadata": {
  "kernelspec": {
   "display_name": "fhmfair2",
   "language": "python",
   "name": "python3"
  },
  "language_info": {
   "codemirror_mode": {
    "name": "ipython",
    "version": 3
   },
   "file_extension": ".py",
   "mimetype": "text/x-python",
   "name": "python",
   "nbconvert_exporter": "python",
   "pygments_lexer": "ipython3",
   "version": "3.10.18"
  }
 },
 "nbformat": 4,
 "nbformat_minor": 5
}
